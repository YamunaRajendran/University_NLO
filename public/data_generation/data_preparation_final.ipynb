{
 "cells": [
  {
   "cell_type": "code",
   "execution_count": null,
   "metadata": {},
   "outputs": [],
   "source": [
    "# pip install pyarabic\n",
    "# pip install googletrans==4.0.0-rc1\n",
    "# pip install openpyxl\n",
    "# pip install -U deep-translator"
   ]
  },
  {
   "cell_type": "code",
   "execution_count": 1,
   "metadata": {},
   "outputs": [],
   "source": [
    "import pandas as pd\n",
    "import pyarabic.araby as araby\n",
    "import numpy as np\n",
    "from googletrans import Translator\n",
    "from deep_translator import GoogleTranslator\n",
    "import time\n",
    "import tqdm\n",
    "import json\n",
    "import random"
   ]
  },
  {
   "cell_type": "code",
   "execution_count": 2,
   "metadata": {},
   "outputs": [],
   "source": [
    "pd.set_option(\"display.max_columns\", None)"
   ]
  },
  {
   "cell_type": "markdown",
   "metadata": {},
   "source": [
    "# TRANSLATE DATA FROM AR TO EN"
   ]
  },
  {
   "cell_type": "code",
   "execution_count": null,
   "metadata": {},
   "outputs": [],
   "source": [
    "# READ ORIGINAL DATA\n",
    "data = pd.read_excel(\n",
    "    r\"C:\\Users\\sanav\\work\\D2R\\NLO\\University\\public\\data\\UNI-IND-2022-tamher.xlsx\",\n",
    "    dtype=\"object\",\n",
    ")\n",
    "df.dropna(inplace=True)\n",
    "\n",
    "df = df[\n",
    "    [\n",
    "        \"IndicatorCode\",\n",
    "        \"IndicatorDescription\",\n",
    "        \"Nationality\",\n",
    "        \"Gender\",\n",
    "        \"Graduation Year\",\n",
    "        \"EducationLevel\",\n",
    "        \"GeneralMajorName\",\n",
    "        \"NarrowMajorName\",\n",
    "        \"MajorCodeByClassification\",\n",
    "        \"MajorNameByClassification\",\n",
    "        \"GOSIoccupationDescription\",\n",
    "        \"ISCOOccupationDescription\",\n",
    "        \"IsMatched\",\n",
    "        \"Employment Information Source\",\n",
    "        \"PeriodToEmployment\",\n",
    "        \"IndicatorValue\"\n",
    "    ]\n",
    "]"
   ]
  },
  {
   "cell_type": "code",
   "execution_count": null,
   "metadata": {},
   "outputs": [],
   "source": [
    "# translation code\n",
    "def translate_text(df, column, translation_results):\n",
    "    a_to_e_translated = {}\n",
    "    unique_values = df[column].unique().tolist()\n",
    "\n",
    "    for value in tqdm.tqdm(unique_values, total=len(unique_values), desc=f\"Translating {column}...\"):\n",
    "        if isinstance(value, str):\n",
    "            if value not in a_to_e_translated:\n",
    "                success = False\n",
    "                retries = 3\n",
    "                while not success and retries > 0:\n",
    "                    try:\n",
    "                        translator = GoogleTranslator(source='auto', target='en')\n",
    "                        translated_text = translator.translate(value)\n",
    "                        a_to_e_translated[value] = translated_text\n",
    "                        success = True\n",
    "                    except Exception as e:\n",
    "                        print(f\"Error translating '{value}': {e}. Retrying in 1 minute...\")\n",
    "                        time.sleep(60)\n",
    "                        retries -= 1\n",
    "                if not success:\n",
    "                    print(f\"Failed to translate '{value}' after retries.\")\n",
    "                    a_to_e_translated[value] = value\n",
    "        else:\n",
    "            a_to_e_translated[value] = str(value)\n",
    "    translation_results[column] = a_to_e_translated\n",
    "    df[f'{column}'] = df[column].map(lambda x: a_to_e_translated.get(x, x))\n",
    "\n",
    "columns_to_translate = [\n",
    "        \"ISCOOccupationDescription\"\n",
    "        \n",
    "]\n",
    "\n",
    "translation_results = {}\n",
    "for column in columns_to_translate:\n",
    "    translate_text(df, column, translation_results)"
   ]
  },
  {
   "cell_type": "code",
   "execution_count": null,
   "metadata": {},
   "outputs": [],
   "source": [
    "trs = GoogleTranslator(source='auto', target='en')\n",
    "trs.translate(\"برامج غير معروفة\")"
   ]
  },
  {
   "cell_type": "code",
   "execution_count": null,
   "metadata": {},
   "outputs": [],
   "source": [
    "output_excel_path = r\"C:\\Users\\sanav\\work\\D2R\\NLO\\University\\public\\output\\ar_to_en_translations.xlsx\"\n",
    "with pd.ExcelWriter(output_excel_path, engine='xlsxwriter') as writer:\n",
    "    for sheet_name, key_value_pairs in translation_results.items():\n",
    "        df = pd.DataFrame(list(key_value_pairs.items()), columns=['Key', 'Value'])\n",
    "        df.to_excel(writer, index=False, sheet_name=sheet_name)"
   ]
  },
  {
   "cell_type": "markdown",
   "metadata": {},
   "source": [
    "# DATA TRANSLATION"
   ]
  },
  {
   "cell_type": "code",
   "execution_count": 3,
   "metadata": {},
   "outputs": [],
   "source": [
    "# READ ORIGINAL DATA\n",
    "data = pd.read_excel(\n",
    "    r\"C:\\Users\\sanav\\work\\D2R\\NLO\\University\\public\\data\\UNI-IND-2022-tamher.xlsx\",\n",
    "    dtype=\"object\",\n",
    ")"
   ]
  },
  {
   "cell_type": "code",
   "execution_count": 4,
   "metadata": {},
   "outputs": [],
   "source": [
    "df = data.copy()"
   ]
  },
  {
   "cell_type": "code",
   "execution_count": 5,
   "metadata": {},
   "outputs": [
    {
     "data": {
      "text/plain": [
       "(253883, 16)"
      ]
     },
     "execution_count": 5,
     "metadata": {},
     "output_type": "execute_result"
    }
   ],
   "source": [
    "df.shape"
   ]
  },
  {
   "cell_type": "code",
   "execution_count": 6,
   "metadata": {},
   "outputs": [],
   "source": [
    "df.dropna(inplace=True)\n",
    "\n",
    "df = df[\n",
    "    [\n",
    "        \"IndicatorDescription\",\n",
    "        \"IndicatorValue\",\n",
    "        \"Nationality\",\n",
    "        \"Gender\",\n",
    "        \"Graduation Year\",\n",
    "        \"EducationLevel\",\n",
    "        \"GeneralMajorName\",\n",
    "        \"NarrowMajorName\",\n",
    "        \"MajorNameByClassification\",\n",
    "        # \"GOSIoccupationDescription\",\n",
    "        \"ISCOOccupationDescription\",\n",
    "        \"PeriodToEmployment\",\n",
    "    ]\n",
    "]"
   ]
  },
  {
   "cell_type": "code",
   "execution_count": 7,
   "metadata": {},
   "outputs": [
    {
     "data": {
      "text/plain": [
       "Index(['IndicatorDescription', 'IndicatorValue', 'Nationality', 'Gender',\n",
       "       'Graduation Year', 'EducationLevel', 'GeneralMajorName',\n",
       "       'NarrowMajorName', 'MajorNameByClassification',\n",
       "       'ISCOOccupationDescription', 'PeriodToEmployment'],\n",
       "      dtype='object')"
      ]
     },
     "execution_count": 7,
     "metadata": {},
     "output_type": "execute_result"
    }
   ],
   "source": [
    "df.columns"
   ]
  },
  {
   "cell_type": "code",
   "execution_count": 8,
   "metadata": {},
   "outputs": [],
   "source": [
    "# Code for changing values from Arabic to English in original data\n",
    "translated_results = {}\n",
    "excel_data = pd.read_excel(r\"C:\\Users\\sanav\\work\\D2R\\NLO\\University\\public\\data\\reflected.xlsx\", sheet_name=None)\n",
    "\n",
    "for sheet_name, sheet_data in excel_data.items():\n",
    "    translated_results[sheet_name] = {\n",
    "        str(key).strip(): str(value).strip() if isinstance(value, str) else value\n",
    "        for key, value in zip(sheet_data.iloc[:, 0], sheet_data.iloc[:, 1])\n",
    "    }\n",
    "\n",
    "for column, translation_dict in translated_results.items():\n",
    "    if column in df.columns:\n",
    "        if df[column].dtype == 'object':\n",
    "            df[column] = df[column].str.strip()\n",
    "        df[column] = df[column].map(translation_dict).fillna(df[column])"
   ]
  },
  {
   "cell_type": "code",
   "execution_count": 11,
   "metadata": {},
   "outputs": [],
   "source": [
    "df = df[df['Nationality'] == 'Saudi']\n",
    "df.reset_index(drop=True, inplace=True)\n",
    "df.replace(['N/A', 'N.A.', np.nan], None, inplace=True)"
   ]
  },
  {
   "cell_type": "code",
   "execution_count": 12,
   "metadata": {},
   "outputs": [
    {
     "data": {
      "text/plain": [
       "Index(['IndicatorDescription', 'IndicatorValue', 'Nationality', 'Gender',\n",
       "       'Graduation Year', 'EducationLevel', 'GeneralMajorName',\n",
       "       'NarrowMajorName', 'MajorNameByClassification',\n",
       "       'ISCOOccupationDescription', 'PeriodToEmployment'],\n",
       "      dtype='object')"
      ]
     },
     "execution_count": 12,
     "metadata": {},
     "output_type": "execute_result"
    }
   ],
   "source": [
    "df.columns"
   ]
  },
  {
   "cell_type": "code",
   "execution_count": 14,
   "metadata": {},
   "outputs": [],
   "source": [
    "# ignore_values = {\n",
    "#     \"Gender\": ['Unclassified'],\n",
    "#     'EducationLevel' : ['Unclassified'],\n",
    "#     'GeneralMajorName': ['Unknown programs'],\n",
    "#     'NarrowMajorName': ['Unclassified programs'],\n",
    "#     \"Major\": [\n",
    "#         'Unknown Specializations',\n",
    "#         'Unspecified Specialization in Social and Behavioral Sciences',\n",
    "#         'Unspecified Specialization in Humanities (Excluding Languages)',\n",
    "#         'Unspecified Specialization in Business, Administration, and Law',\n",
    "#         'Unspecified Specialization in Health',\n",
    "#         'Unspecified Specialization in Physical Sciences',\n",
    "#         'Unspecified Specialization in Security Services',\n",
    "#         'Unspecified Specialization in Business and Management'\n",
    "#     ],\n",
    "#     'ISCOOccupationDescription': [0]\n",
    "# }\n",
    "\n",
    "# ignore_values = {\n",
    "#     \"Gender\": ['Unclassified'],\n",
    "#     'EducationLevel' : ['Unclassified'],\n",
    "#     'GeneralMajorName': ['Unknown programs'],\n",
    "#     'NarrowMajorName': ['Unclassified programs'],\n",
    "#     \"Major\": [\n",
    "#         'Unknown Specializations'\n",
    "#     ],\n",
    "#     'ISCOOccupationDescription': [0]\n",
    "# }"
   ]
  },
  {
   "cell_type": "code",
   "execution_count": 13,
   "metadata": {},
   "outputs": [],
   "source": [
    "# # Remove rows containing the specified values\n",
    "# for column, values in ignore_values.items():\n",
    "#     if column in df.columns:\n",
    "#         df = df[~df[column].isin(values)]\n",
    "\n",
    "\n",
    "# # Replace specified values with None\n",
    "# for column, values in ignore_values.items():\n",
    "#     if column in df.columns:\n",
    "#         df[column] = df[column].replace(values, None)\n",
    "\n",
    "df.reset_index(drop=True, inplace=True)"
   ]
  },
  {
   "cell_type": "code",
   "execution_count": 14,
   "metadata": {},
   "outputs": [
    {
     "data": {
      "text/plain": [
       "(253883, 11)"
      ]
     },
     "execution_count": 14,
     "metadata": {},
     "output_type": "execute_result"
    }
   ],
   "source": [
    "df.shape"
   ]
  },
  {
   "cell_type": "code",
   "execution_count": 16,
   "metadata": {},
   "outputs": [],
   "source": [
    "df.to_json(r\"C:\\Users\\sanav\\work\\D2R\\NLO\\University\\public\\output\\translated_full_data.json\", orient=\"records\", indent=4, force_ascii=False)\n",
    "df.to_excel(r\"C:\\Users\\sanav\\work\\D2R\\NLO\\University\\public\\output\\translated_full_data.xlsx\", index=False)"
   ]
  },
  {
   "cell_type": "markdown",
   "metadata": {},
   "source": [
    "# TRANSLATE FROM EN TO AR"
   ]
  },
  {
   "cell_type": "code",
   "execution_count": 33,
   "metadata": {},
   "outputs": [],
   "source": [
    "df = pd.read_excel(r\"C:\\Users\\sanav\\work\\D2R\\NLO\\University\\public\\output\\translated_full_data.xlsx\", dtype='object')"
   ]
  },
  {
   "cell_type": "code",
   "execution_count": 34,
   "metadata": {},
   "outputs": [
    {
     "data": {
      "text/plain": [
       "(253883, 11)"
      ]
     },
     "execution_count": 34,
     "metadata": {},
     "output_type": "execute_result"
    }
   ],
   "source": [
    "df.shape"
   ]
  },
  {
   "cell_type": "code",
   "execution_count": 38,
   "metadata": {},
   "outputs": [
    {
     "name": "stdout",
     "output_type": "stream",
     "text": [
      "Unique values have been written to C:\\Users\\sanav\\work\\D2R\\NLO\\University\\public\\output\\MajorNameByClassification.txt\n"
     ]
    }
   ],
   "source": [
    "unique_values = df['MajorNameByClassification'].unique().tolist()\n",
    "\n",
    "# Specify the file name\n",
    "file_name = r\"C:\\Users\\sanav\\work\\D2R\\NLO\\University\\public\\output\\MajorNameByClassification.txt\"\n",
    "\n",
    "# Write the list to the file\n",
    "with open(file_name, 'w', encoding='utf-8') as file:\n",
    "    for item in unique_values:\n",
    "        file.write(f\"{item}\\n\")\n",
    "\n",
    "print(f\"Unique values have been written to {file_name}\")\n"
   ]
  },
  {
   "cell_type": "code",
   "execution_count": 19,
   "metadata": {},
   "outputs": [
    {
     "data": {
      "text/plain": [
       "Gender\n",
       "Male            127018\n",
       "Female          126863\n",
       "Unclassified         2\n",
       "Name: count, dtype: int64"
      ]
     },
     "execution_count": 19,
     "metadata": {},
     "output_type": "execute_result"
    }
   ],
   "source": [
    "df['Gender'].value_counts()"
   ]
  },
  {
   "cell_type": "code",
   "execution_count": 20,
   "metadata": {},
   "outputs": [],
   "source": [
    "# Code for changing values from Arabic to English in original data\n",
    "translated_results = {}\n",
    "excel_data = pd.read_excel(r\"C:\\Users\\sanav\\work\\D2R\\NLO\\University\\public\\data\\reflected.xlsx\", sheet_name=None)\n",
    "\n",
    "for sheet_name, sheet_data in excel_data.items():\n",
    "    # Swap the key-value pairs - now English will be key and Arabic will be value\n",
    "    translated_results[sheet_name] = {\n",
    "        str(value).strip(): str(key).strip() if isinstance(key, str) else key\n",
    "        for key, value in zip(sheet_data.iloc[:, 0], sheet_data.iloc[:, 1])\n",
    "    }\n",
    "\n",
    "# Apply the translations\n",
    "for column, translation_dict in translated_results.items():\n",
    "    if column in df.columns:\n",
    "        if df[column].dtype == 'object':\n",
    "            df[column] = df[column].str.strip()\n",
    "        df[column] = df[column].map(translation_dict).fillna(df[column])\n"
   ]
  },
  {
   "cell_type": "code",
   "execution_count": 25,
   "metadata": {},
   "outputs": [
    {
     "data": {
      "text/plain": [
       "Index(['IndicatorDescription', 'IndicatorValue', 'Nationality', 'Gender',\n",
       "       'Graduation Year', 'EducationLevel', 'GeneralMajorName',\n",
       "       'NarrowMajorName', 'MajorNameByClassification',\n",
       "       'ISCOOccupationDescription', 'PeriodToEmployment'],\n",
       "      dtype='object')"
      ]
     },
     "execution_count": 25,
     "metadata": {},
     "output_type": "execute_result"
    }
   ],
   "source": [
    "df.columns"
   ]
  },
  {
   "cell_type": "code",
   "execution_count": 27,
   "metadata": {},
   "outputs": [
    {
     "data": {
      "text/plain": [
       "array(['بكالوريوس', 'دبلوم عالي', 'دبلوم متوسط', 'دبلوم مشارك', 'دكتوراه',\n",
       "       'زمالة', 'غير معرف', 'ماجستير'], dtype=object)"
      ]
     },
     "execution_count": 27,
     "metadata": {},
     "output_type": "execute_result"
    }
   ],
   "source": [
    "df['EducationLevel'].unique()"
   ]
  },
  {
   "cell_type": "code",
   "execution_count": 28,
   "metadata": {},
   "outputs": [],
   "source": [
    "df.to_json(r\"C:\\Users\\sanav\\work\\D2R\\NLO\\University\\public\\output\\translated_full_data_arabic.json\", orient=\"records\", indent=4, force_ascii=False)\n",
    "df.to_excel(r\"C:\\Users\\sanav\\work\\D2R\\NLO\\University\\public\\output\\translated_full_data_arabic.xlsx\", index=False)"
   ]
  },
  {
   "cell_type": "code",
   "execution_count": 32,
   "metadata": {},
   "outputs": [
    {
     "data": {
      "text/plain": [
       "array(['أنثى', 'ذكر', 'غير معرف'], dtype=object)"
      ]
     },
     "execution_count": 32,
     "metadata": {},
     "output_type": "execute_result"
    }
   ],
   "source": [
    "df['Gender'].unique()"
   ]
  },
  {
   "cell_type": "code",
   "execution_count": 30,
   "metadata": {},
   "outputs": [
    {
     "data": {
      "text/plain": [
       "(253883, 11)"
      ]
     },
     "execution_count": 30,
     "metadata": {},
     "output_type": "execute_result"
    }
   ],
   "source": [
    "df.shape"
   ]
  },
  {
   "cell_type": "code",
   "execution_count": 31,
   "metadata": {},
   "outputs": [
    {
     "data": {
      "text/plain": [
       "(253883, 16)"
      ]
     },
     "execution_count": 31,
     "metadata": {},
     "output_type": "execute_result"
    }
   ],
   "source": [
    "data.shape"
   ]
  },
  {
   "cell_type": "markdown",
   "metadata": {},
   "source": [
    "EXTRA CODES"
   ]
  },
  {
   "cell_type": "code",
   "execution_count": 11,
   "metadata": {},
   "outputs": [],
   "source": [
    "import pandas as pd\n",
    "import json\n",
    "\n",
    "# Read the Excel file with all sheets\n",
    "excel_data = pd.read_excel(r\"C:\\Users\\sanav\\work\\D2R\\NLO\\University\\public\\data\\reflected.xlsx\", sheet_name=None)\n",
    "\n",
    "# Create a dictionary to store all translations\n",
    "translation_dict = {}\n",
    "\n",
    "# Process each sheet\n",
    "for sheet_name, sheet_data in excel_data.items():\n",
    "    # Convert the two columns into a dictionary\n",
    "    translation_dict[sheet_name] = {\n",
    "        str(key).strip(): str(value).strip() if isinstance(value, str) else value\n",
    "        for key, value in zip(sheet_data.iloc[:, 0], sheet_data.iloc[:, 1])\n",
    "    }\n",
    "\n",
    "# Save as JSON file\n",
    "with open(r\"C:\\Users\\sanav\\work\\D2R\\NLO\\University\\public\\data\\translations.json\", 'w', encoding='utf-8') as f:\n",
    "    json.dump(translation_dict, f, ensure_ascii=False, indent=4)"
   ]
  },
  {
   "cell_type": "code",
   "execution_count": null,
   "metadata": {},
   "outputs": [],
   "source": []
  },
  {
   "cell_type": "code",
   "execution_count": 3,
   "metadata": {},
   "outputs": [],
   "source": [
    "df = pd.read_excel(r\"C:\\Users\\sanav\\work\\D2R\\NLO\\University\\public\\output\\translated_full_data.xlsx\", dtype='object')"
   ]
  },
  {
   "cell_type": "code",
   "execution_count": 22,
   "metadata": {},
   "outputs": [],
   "source": [
    "data = pd.read_excel(\n",
    "    r\"C:\\Users\\sanav\\work\\D2R\\NLO\\University\\public\\data\\UNI-IND-2022-Jadarat.xlsx\",\n",
    "    dtype=\"object\",\n",
    ")\n",
    "data.dropna(inplace=True)\n",
    "\n",
    "data = data[\n",
    "    [\n",
    "        \"IndicatorDescription\",\n",
    "        \"IndicatorValue\",\n",
    "        \"Nationality\",\n",
    "        \"Gender\",\n",
    "        \"Graduation Year\",\n",
    "        \"EducationLevel\",\n",
    "        \"GeneralMajorName\",\n",
    "        \"NarrowMajorName\",\n",
    "        \"MajorNameByClassification\",\n",
    "        # \"GOSIoccupationDescription\",\n",
    "        \"ISCOOccupationDescription\",\n",
    "        \"PeriodToEmployment\",\n",
    "    ]\n",
    "]"
   ]
  },
  {
   "cell_type": "code",
   "execution_count": 34,
   "metadata": {},
   "outputs": [],
   "source": [
    "df1 = data.copy()\n",
    "df1 = df1[df1['Nationality'] == 'سعودي']\n",
    "df1.reset_index(inplace=True, drop=True)"
   ]
  },
  {
   "cell_type": "code",
   "execution_count": null,
   "metadata": {},
   "outputs": [],
   "source": [
    "df1.shape"
   ]
  },
  {
   "cell_type": "code",
   "execution_count": null,
   "metadata": {},
   "outputs": [],
   "source": [
    "df1.columns"
   ]
  },
  {
   "cell_type": "code",
   "execution_count": null,
   "metadata": {},
   "outputs": [],
   "source": [
    "df1['IndicatorDescription'].unique()"
   ]
  },
  {
   "cell_type": "code",
   "execution_count": null,
   "metadata": {},
   "outputs": [],
   "source": [
    "df1['GeneralMajorName'].nunique()"
   ]
  },
  {
   "cell_type": "code",
   "execution_count": null,
   "metadata": {},
   "outputs": [],
   "source": [
    "df1['GeneralMajorName'].unique()"
   ]
  },
  {
   "cell_type": "code",
   "execution_count": 43,
   "metadata": {},
   "outputs": [],
   "source": [
    "df1['GeneralMajorName'] = df1['GeneralMajorName'].str.strip()"
   ]
  },
  {
   "cell_type": "code",
   "execution_count": null,
   "metadata": {},
   "outputs": [],
   "source": [
    "df1['GeneralMajorName'].nunique()"
   ]
  },
  {
   "cell_type": "code",
   "execution_count": 27,
   "metadata": {},
   "outputs": [],
   "source": [
    "# Code for changing values from Arabic to English in original data\n",
    "translated_results = {}\n",
    "excel_data = pd.read_excel(r\"C:\\Users\\sanav\\work\\D2R\\NLO\\University\\public\\data\\reflected.xlsx\", sheet_name=None)\n",
    "\n",
    "for sheet_name, sheet_data in excel_data.items():\n",
    "    translated_results[sheet_name] = {\n",
    "        str(key).strip(): str(value).strip() if isinstance(value, str) else value\n",
    "        for key, value in zip(sheet_data.iloc[:, 0], sheet_data.iloc[:, 1])\n",
    "    }\n",
    "\n",
    "for column, translation_dict in translated_results.items():\n",
    "    if column in df.columns:\n",
    "        if df1[column].dtype == 'object':\n",
    "            df1[column] = df1[column].str.strip()\n",
    "        df1[column] = df1[column].map(translation_dict).fillna(df[column])"
   ]
  },
  {
   "cell_type": "code",
   "execution_count": null,
   "metadata": {},
   "outputs": [],
   "source": [
    "df1.columns"
   ]
  },
  {
   "cell_type": "code",
   "execution_count": null,
   "metadata": {},
   "outputs": [],
   "source": [
    "df.columns"
   ]
  },
  {
   "cell_type": "code",
   "execution_count": null,
   "metadata": {},
   "outputs": [],
   "source": [
    "df1['NarrowMajorName'].nunique()"
   ]
  },
  {
   "cell_type": "code",
   "execution_count": null,
   "metadata": {},
   "outputs": [],
   "source": [
    "df['NarrowMajorName'].nunique()"
   ]
  },
  {
   "cell_type": "code",
   "execution_count": 70,
   "metadata": {},
   "outputs": [],
   "source": [
    "l1 = df['MajorNameByClassification'].unique().tolist()"
   ]
  },
  {
   "cell_type": "code",
   "execution_count": null,
   "metadata": {},
   "outputs": [],
   "source": [
    "len(l1)"
   ]
  },
  {
   "cell_type": "code",
   "execution_count": 47,
   "metadata": {},
   "outputs": [],
   "source": [
    "df2 = pd.read_excel(r\"C:\\Users\\sanav\\work\\D2R\\NLO\\University\\public\\output\\translated_full_data_arabic.xlsx\", dtype='object')"
   ]
  },
  {
   "cell_type": "code",
   "execution_count": 73,
   "metadata": {},
   "outputs": [],
   "source": [
    "l2 = df2['MajorNameByClassification'].unique().tolist()"
   ]
  },
  {
   "cell_type": "code",
   "execution_count": null,
   "metadata": {},
   "outputs": [],
   "source": [
    "len(l2)"
   ]
  },
  {
   "cell_type": "code",
   "execution_count": 75,
   "metadata": {},
   "outputs": [],
   "source": [
    "IGNORE_VALUES = [\n",
    "    'Unclassified',\n",
    "    'Unknown programs',\n",
    "    'Unclassified programs',\n",
    "    'Unknown Specializations',\n",
    "    '0',\n",
    "    \"غير محدد\",\n",
    "    \"غير معرف\",\n",
    "    \"برامج غير محددة\",\n",
    "    \"برامج غير معروفة\",\n",
    "    \"برامج غير معروفة\",\n",
    "    \"تخصصات غير معروفة\"\n",
    "]"
   ]
  },
  {
   "cell_type": "code",
   "execution_count": null,
   "metadata": {},
   "outputs": [],
   "source": [
    "for i in l2:\n",
    "    if i in IGNORE_VALUES:\n",
    "        print(i)"
   ]
  },
  {
   "cell_type": "code",
   "execution_count": null,
   "metadata": {},
   "outputs": [],
   "source": [
    "trs = GoogleTranslator(source='auto', target='ar')\n",
    "print(trs.translate(\"Bachelor\"))\n",
    "# print(trs.translate(\"الأعمال والإدارة والقانون\"))"
   ]
  },
  {
   "cell_type": "code",
   "execution_count": null,
   "metadata": {},
   "outputs": [],
   "source": [
    "if \"بكالوريوس\" == 'بكالوريوس':\n",
    "    print(\"Yes\")"
   ]
  },
  {
   "cell_type": "code",
   "execution_count": 80,
   "metadata": {},
   "outputs": [],
   "source": [
    "general_major = 'برامج غير محددة في الأعمال والإدارة والقانون'"
   ]
  },
  {
   "cell_type": "code",
   "execution_count": null,
   "metadata": {},
   "outputs": [],
   "source": [
    "if any(ignore in str(general_major) for ignore in IGNORE_VALUES):\n",
    "    print(\"Yes\")"
   ]
  },
  {
   "cell_type": "code",
   "execution_count": null,
   "metadata": {},
   "outputs": [],
   "source": []
  },
  {
   "cell_type": "code",
   "execution_count": 121,
   "metadata": {},
   "outputs": [],
   "source": [
    "testing_data = pd.read_excel(r\"C:\\Users\\sanav\\work\\D2R\\NLO\\University\\public\\data\\data for the 13 majors.xlsx\", dtype='str')"
   ]
  },
  {
   "cell_type": "code",
   "execution_count": null,
   "metadata": {},
   "outputs": [],
   "source": [
    "testing_data"
   ]
  },
  {
   "cell_type": "code",
   "execution_count": 123,
   "metadata": {},
   "outputs": [],
   "source": [
    "testing_data.rename(columns={'Unnamed: 0': 'GeneralMajorName'}, inplace=True)"
   ]
  },
  {
   "cell_type": "code",
   "execution_count": null,
   "metadata": {},
   "outputs": [],
   "source": [
    "testing_data"
   ]
  },
  {
   "cell_type": "code",
   "execution_count": 125,
   "metadata": {},
   "outputs": [],
   "source": [
    "translated_results = {}\n",
    "excel_data = pd.read_excel(r\"C:\\Users\\sanav\\work\\D2R\\NLO\\University\\public\\data\\reflected.xlsx\", sheet_name=None)\n",
    "\n",
    "for sheet_name, sheet_data in excel_data.items():\n",
    "    translated_results[sheet_name] = {\n",
    "        str(key).strip(): str(value).strip() if isinstance(value, str) else value\n",
    "        for key, value in zip(sheet_data.iloc[:, 0], sheet_data.iloc[:, 1])\n",
    "    }"
   ]
  },
  {
   "cell_type": "code",
   "execution_count": null,
   "metadata": {},
   "outputs": [],
   "source": [
    "translated_results['GeneralMajorName']"
   ]
  },
  {
   "cell_type": "code",
   "execution_count": 127,
   "metadata": {},
   "outputs": [],
   "source": [
    "for column, translation_dict in translated_results.items():\n",
    "    if column in testing_data.columns:\n",
    "        if testing_data[column].dtype == 'object':\n",
    "            testing_data[column] = testing_data[column].str.strip()\n",
    "        testing_data[column] = testing_data[column].map(translation_dict).fillna(testing_data[column])"
   ]
  },
  {
   "cell_type": "code",
   "execution_count": null,
   "metadata": {},
   "outputs": [],
   "source": [
    "testing_data"
   ]
  },
  {
   "cell_type": "code",
   "execution_count": 129,
   "metadata": {},
   "outputs": [],
   "source": [
    "testing_data.to_excel(r\"C:\\Users\\sanav\\work\\D2R\\NLO\\University\\public\\output\\testing_data.xlsx\", sheet_name= 'GeneralMajorName', index=False)"
   ]
  },
  {
   "cell_type": "code",
   "execution_count": null,
   "metadata": {},
   "outputs": [],
   "source": []
  },
  {
   "cell_type": "code",
   "execution_count": 4,
   "metadata": {},
   "outputs": [],
   "source": [
    "import pandas as pd\n",
    "import json\n",
    "\n",
    "# Read the job seekers data\n",
    "job_seekers_df = pd.read_excel(r\"C:\\Users\\sanav\\work\\D2R\\NLO\\University\\public\\data\\UNI-IND-2022-Jadarat.xlsx\", dtype='str')\n",
    "job_seekers_df['IndicatorValue'] = pd.to_numeric(job_seekers_df['IndicatorValue'], errors='coerce')\n",
    "\n",
    "# Translate the data\n",
    "excel_data = pd.read_excel(r\"C:\\Users\\sanav\\work\\D2R\\NLO\\University\\public\\data\\reflected.xlsx\", sheet_name=None)\n",
    "translated_results = {}\n",
    "\n",
    "for sheet_name, sheet_data in excel_data.items():\n",
    "    translated_results[sheet_name] = {\n",
    "        str(key).strip(): str(value).strip() if isinstance(value, str) else value\n",
    "        for key, value in zip(sheet_data.iloc[:, 0], sheet_data.iloc[:, 1])\n",
    "    }\n",
    "\n",
    "for column, translation_dict in translated_results.items():\n",
    "    if column in job_seekers_df.columns:\n",
    "        if job_seekers_df[column].dtype == 'object':\n",
    "            job_seekers_df[column] = job_seekers_df[column].str.strip()\n",
    "        job_seekers_df[column] = job_seekers_df[column].map(translation_dict).fillna(job_seekers_df[column])\n",
    "\n",
    "# Read the main data for other calculations\n",
    "with open(r\"C:\\Users\\sanav\\work\\D2R\\NLO\\University\\public\\output\\translated_full_data.json\", 'r', encoding='utf-8') as f:\n",
    "    main_data = json.load(f)\n",
    "df = pd.DataFrame(main_data)\n",
    "df['IndicatorValue'] = pd.to_numeric(df['IndicatorValue'], errors='coerce')\n",
    "\n",
    "# Create a DataFrame for NarrowMajor analysis\n",
    "narrow_major_data = []\n",
    "\n",
    "for narrow_major in df['NarrowMajorName'].unique():\n",
    "    if pd.isna(narrow_major):\n",
    "        continue\n",
    "        \n",
    "    narrow_major_df = df[df['NarrowMajorName'] == narrow_major]\n",
    "    job_seekers_narrow_df = job_seekers_df[job_seekers_df['NarrowMajorName'] == narrow_major]\n",
    "    \n",
    "    # Calculate total graduates\n",
    "    total_graduates = narrow_major_df[narrow_major_df['IndicatorDescription'] == 'Number of Graduates']['IndicatorValue'].sum()\n",
    "    \n",
    "    # Calculate employment rate\n",
    "    total_employed = narrow_major_df[\n",
    "        (narrow_major_df['IndicatorDescription'] == 'Number of graduates who are employed before graduation') |\n",
    "        (narrow_major_df['IndicatorDescription'] == 'Number of graduates who are employed after graduation')\n",
    "    ]['IndicatorValue'].sum()\n",
    "    employment_rate = round((total_employed / total_graduates * 100), 2) if total_graduates > 0 else 0\n",
    "    \n",
    "    # Calculate average salary\n",
    "    total_salary = narrow_major_df[narrow_major_df['IndicatorDescription'] == 'Total salaries of employees after graduation']['IndicatorValue'].sum()\n",
    "    employed_with_salary = narrow_major_df[narrow_major_df['IndicatorDescription'] == 'Number of graduates with salary who are employed after graduation']['IndicatorValue'].sum()\n",
    "    average_salary = round(total_salary / employed_with_salary) if employed_with_salary > 0 else 0\n",
    "    \n",
    "    # Calculate time to employment\n",
    "    total_days = narrow_major_df[narrow_major_df['IndicatorDescription'] == 'Total number of days until the first job']['IndicatorValue'].sum()\n",
    "    employed_after_grad = narrow_major_df[narrow_major_df['IndicatorDescription'] == 'Number of graduates who are employed after graduation']['IndicatorValue'].sum()\n",
    "    time_to_employ = round((total_days / employed_after_grad) / 30, 1) if employed_after_grad > 0 else 0\n",
    "    \n",
    "    # Calculate job seekers from job_seekers_df\n",
    "    job_seekers = job_seekers_narrow_df[job_seekers_narrow_df['IndicatorDescription'] == 'Number of Job Seekers']['IndicatorValue'].sum()\n",
    "    \n",
    "    narrow_major_data.append({\n",
    "        'NarrowMajorName': narrow_major,\n",
    "        'Grad No': int(total_graduates),\n",
    "        'Employ Rate': float(employment_rate),\n",
    "        'Salary Average': average_salary,\n",
    "        'time to employ': time_to_employ,\n",
    "        'job seekers': int(job_seekers)\n",
    "    })\n",
    "\n",
    "# Convert to DataFrame\n",
    "narrow_major_df = pd.DataFrame(narrow_major_data)\n",
    "\n",
    "# Add Grand Total row\n",
    "# Add Grand Total row\n",
    "total_grads = narrow_major_df['Grad No'].sum()\n",
    "total_employed = narrow_major_df.apply(lambda x: x['Grad No'] * x['Employ Rate'], axis=1).sum()\n",
    "total_salary = narrow_major_df.apply(lambda x: x['Salary Average'] * (x['Grad No'] * x['Employ Rate']), axis=1).sum()\n",
    "total_time = narrow_major_df.apply(lambda x: x['time to employ'] * (x['Grad No'] * x['Employ Rate']), axis=1).sum()\n",
    "\n",
    "grand_total = {\n",
    "    'NarrowMajorName': 'Grand Total',\n",
    "    'Grad No': total_grads,\n",
    "    'Employ Rate': round(total_employed / total_grads * 100, 2),\n",
    "    'Salary Average': round(total_salary / total_employed),\n",
    "    'time to employ': round(total_time / total_employed, 1),\n",
    "    'job seekers': narrow_major_df['job seekers'].sum()\n",
    "}\n",
    "\n",
    "narrow_major_df = pd.concat([narrow_major_df, pd.DataFrame([grand_total])], ignore_index=True)\n",
    "\n",
    "# Save to Excel\n",
    "# Save to Excel\n",
    "try:\n",
    "    with pd.ExcelWriter(r\"C:\\Users\\sanav\\work\\D2R\\NLO\\University\\public\\output\\testing_data.xlsx\", \n",
    "                        mode='a', \n",
    "                        engine='openpyxl',\n",
    "                        if_sheet_exists='replace') as writer:\n",
    "        narrow_major_df.to_excel(writer, sheet_name='NarrowMajorName', index=False)\n",
    "except ValueError:\n",
    "    # If mode='a' fails, try writing a new file\n",
    "    with pd.ExcelWriter(r\"C:\\Users\\sanav\\work\\D2R\\NLO\\University\\public\\output\\testing_data.xlsx\", \n",
    "                        engine='openpyxl') as writer:\n",
    "        narrow_major_df.to_excel(writer, sheet_name='NarrowMajorName', index=False)"
   ]
  },
  {
   "cell_type": "code",
   "execution_count": null,
   "metadata": {},
   "outputs": [],
   "source": [
    "narrow_major_df"
   ]
  },
  {
   "cell_type": "code",
   "execution_count": null,
   "metadata": {},
   "outputs": [],
   "source": [
    "import pandas as pd\n",
    "from openpyxl.styles import Font\n",
    "\n",
    "formulas = [\n",
    "    {\n",
    "        'Level': 'Overall',\n",
    "        'Metric': 'Total Graduates',\n",
    "        'Formula': '\"Number of Graduates\"',\n",
    "        'Description': 'Sum of all graduates'\n",
    "    },\n",
    "    {\n",
    "        'Level': 'Overall',\n",
    "        'Metric': 'Employment Rate',\n",
    "        'Formula': '(\"Number of graduates who are employed before graduation\" + \"Number of graduates who are employed after graduation\") / \"Number of Graduates\" × 100',\n",
    "        'Description': 'Overall employment rate'\n",
    "    },\n",
    "    {\n",
    "        'Level': 'Overall',\n",
    "        'Metric': 'Time to Employment (Months)',\n",
    "        'Formula': '(\"Total number of days until the first job\" / \"Number of graduates who are employed after graduation\") / 30',\n",
    "        'Description': 'Average months to find employment'\n",
    "    },\n",
    "    {\n",
    "        'Level': 'Overall',\n",
    "        'Metric': 'Average Salary',\n",
    "        'Formula': '\"Total salaries of employees after graduation\" / \"Number of graduates with salary who are employed after graduation\"',\n",
    "        'Description': 'Overall average salary'\n",
    "    },\n",
    "    {\n",
    "        'Level': 'Overall',\n",
    "        'Metric': 'Job Seekers',\n",
    "        'Formula': '\"Number of Job Seekers\"',\n",
    "        'Description': 'Total number of job seekers'\n",
    "    },\n",
    "    {\n",
    "        'Level': 'General Major',\n",
    "        'Metric': 'Total Graduates',\n",
    "        'Formula': '\"Number of Graduates\" WHERE GeneralMajorName = X',\n",
    "        'Description': 'Sum of graduates in specific general major'\n",
    "    },\n",
    "    {\n",
    "        'Level': 'General Major',\n",
    "        'Metric': 'Employment Rate',\n",
    "        'Formula': '(\"Number of graduates who are employed before graduation\" + \"Number of graduates who are employed after graduation\") / \"Number of Graduates\" × 100 WHERE GeneralMajorName = X',\n",
    "        'Description': 'Employment rate for specific general major'\n",
    "    },\n",
    "    {\n",
    "        'Level': 'General Major',\n",
    "        'Metric': 'Time to Employment (Months)',\n",
    "        'Formula': '(\"Total number of days until the first job\" / \"Number of graduates who are employed after graduation\") / 30 WHERE GeneralMajorName = X',\n",
    "        'Description': 'Average months to find employment for specific general major'\n",
    "    },\n",
    "    {\n",
    "        'Level': 'General Major',\n",
    "        'Metric': 'Average Salary',\n",
    "        'Formula': '\"Total salaries of employees after graduation\" / \"Number of graduates with salary who are employed after graduation\" WHERE GeneralMajorName = X',\n",
    "        'Description': 'Average salary for specific general major'\n",
    "    },\n",
    "    {\n",
    "        'Level': 'General Major',\n",
    "        'Metric': 'Job Seekers',\n",
    "        'Formula': '\"Number of Job Seekers\" WHERE GeneralMajorName = X',\n",
    "        'Description': 'Number of job seekers in specific general major'\n",
    "    },\n",
    "    {\n",
    "        'Level': 'Narrow Major',\n",
    "        'Metric': 'Total Graduates',\n",
    "        'Formula': '\"Number of Graduates\" WHERE NarrowMajorName = Y',\n",
    "        'Description': 'Sum of graduates in specific narrow major'\n",
    "    },\n",
    "    {\n",
    "        'Level': 'Narrow Major',\n",
    "        'Metric': 'Employment Rate',\n",
    "        'Formula': '(\"Number of graduates who are employed before graduation\" + \"Number of graduates who are employed after graduation\") / \"Number of Graduates\" × 100 WHERE NarrowMajorName = Y',\n",
    "        'Description': 'Employment rate for specific narrow major'\n",
    "    },\n",
    "    {\n",
    "        'Level': 'Narrow Major',\n",
    "        'Metric': 'Time to Employment (Months)',\n",
    "        'Formula': '(\"Total number of days until the first job\" / \"Number of graduates who are employed after graduation\") / 30 WHERE NarrowMajorName = Y',\n",
    "        'Description': 'Average months to find employment for specific narrow major'\n",
    "    },\n",
    "    {\n",
    "        'Level': 'Narrow Major',\n",
    "        'Metric': 'Average Salary',\n",
    "        'Formula': '\"Total salaries of employees after graduation\" / \"Number of graduates with salary who are employed after graduation\" WHERE NarrowMajorName = Y',\n",
    "        'Description': 'Average salary for specific narrow major'\n",
    "    },\n",
    "    {\n",
    "        'Level': 'Narrow Major',\n",
    "        'Metric': 'Job Seekers',\n",
    "        'Formula': '\"Number of Job Seekers\" WHERE NarrowMajorName = Y',\n",
    "        'Description': 'Number of job seekers in specific narrow major'\n",
    "    }\n",
    "]\n",
    "\n",
    "# Convert to DataFrame\n",
    "formulas_df = pd.DataFrame(formulas)\n",
    "\n",
    "# Save to Excel with formatted columns\n",
    "with pd.ExcelWriter(r\"C:\\Users\\sanav\\work\\D2R\\NLO\\University\\public\\output\\metrics_formulas.xlsx\", engine='openpyxl') as writer:\n",
    "    formulas_df.to_excel(writer, sheet_name='Formulas', index=False)\n",
    "    \n",
    "    # Get the workbook and the worksheet\n",
    "    workbook = writer.book\n",
    "    worksheet = writer.sheets['Formulas']\n",
    "    \n",
    "    # Adjust column widths\n",
    "    for idx, col in enumerate(formulas_df.columns):\n",
    "        max_length = max(\n",
    "            formulas_df[col].astype(str).apply(len).max(),\n",
    "            len(col)\n",
    "        )\n",
    "        worksheet.column_dimensions[chr(65 + idx)].width = min(max_length + 2, 100)\n",
    "    \n",
    "    # Add bold formatting to header row\n",
    "    bold_font = Font(bold=True)\n",
    "    for cell in worksheet[1]:\n",
    "        cell.font = bold_font\n",
    "\n",
    "print(\"Metrics formulas have been saved to metrics_formulas.xlsx\")"
   ]
  },
  {
   "cell_type": "code",
   "execution_count": null,
   "metadata": {},
   "outputs": [],
   "source": [
    "df.shape"
   ]
  },
  {
   "cell_type": "code",
   "execution_count": null,
   "metadata": {},
   "outputs": [],
   "source": [
    "df.columns"
   ]
  },
  {
   "cell_type": "code",
   "execution_count": null,
   "metadata": {},
   "outputs": [],
   "source": []
  }
 ],
 "metadata": {
  "kernelspec": {
   "display_name": ".env",
   "language": "python",
   "name": "python3"
  },
  "language_info": {
   "codemirror_mode": {
    "name": "ipython",
    "version": 3
   },
   "file_extension": ".py",
   "mimetype": "text/x-python",
   "name": "python",
   "nbconvert_exporter": "python",
   "pygments_lexer": "ipython3",
   "version": "3.11.9"
  }
 },
 "nbformat": 4,
 "nbformat_minor": 2
}
