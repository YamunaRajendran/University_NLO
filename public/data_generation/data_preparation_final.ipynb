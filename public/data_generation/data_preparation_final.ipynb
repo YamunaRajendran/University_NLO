{
 "cells": [
  {
   "cell_type": "code",
   "execution_count": null,
   "metadata": {},
   "outputs": [],
   "source": [
    "# pip install pyarabic\n",
    "# pip install googletrans==4.0.0-rc1\n",
    "# pip install openpyxl\n",
    "# pip install -U deep-translator"
   ]
  },
  {
   "cell_type": "code",
   "execution_count": 1,
   "metadata": {},
   "outputs": [],
   "source": [
    "import pandas as pd\n",
    "import pyarabic.araby as araby\n",
    "import numpy as np\n",
    "from googletrans import Translator\n",
    "from deep_translator import GoogleTranslator\n",
    "import time\n",
    "import tqdm\n",
    "import json\n",
    "import random"
   ]
  },
  {
   "cell_type": "code",
   "execution_count": 2,
   "metadata": {},
   "outputs": [],
   "source": [
    "pd.set_option(\"display.max_columns\", None)"
   ]
  },
  {
   "cell_type": "markdown",
   "metadata": {},
   "source": [
    "# TRANSLATE DATA FROM AR TO EN"
   ]
  },
  {
   "cell_type": "code",
   "execution_count": null,
   "metadata": {},
   "outputs": [],
   "source": [
    "# READ ORIGINAL DATA\n",
    "data = pd.read_excel(\n",
    "    r\"C:\\Users\\sanav\\work\\D2R\\NLO\\University\\public\\data\\UNI-IND-2022-tamher.xlsx\",\n",
    "    dtype=\"object\",\n",
    ")\n",
    "df.dropna(inplace=True)\n",
    "\n",
    "df = df[\n",
    "    [\n",
    "        \"IndicatorCode\",\n",
    "        \"IndicatorDescription\",\n",
    "        \"Nationality\",\n",
    "        \"Gender\",\n",
    "        \"Graduation Year\",\n",
    "        \"EducationLevel\",\n",
    "        \"GeneralMajorName\",\n",
    "        \"NarrowMajorName\",\n",
    "        \"MajorCodeByClassification\",\n",
    "        \"MajorNameByClassification\",\n",
    "        \"GOSIoccupationDescription\",\n",
    "        \"ISCOOccupationDescription\",\n",
    "        \"IsMatched\",\n",
    "        \"Employment Information Source\",\n",
    "        \"PeriodToEmployment\",\n",
    "        \"IndicatorValue\"\n",
    "    ]\n",
    "]"
   ]
  },
  {
   "cell_type": "code",
   "execution_count": null,
   "metadata": {},
   "outputs": [],
   "source": [
    "# translation code\n",
    "def translate_text(df, column, translation_results):\n",
    "    a_to_e_translated = {}\n",
    "    unique_values = df[column].unique().tolist()\n",
    "\n",
    "    for value in tqdm.tqdm(unique_values, total=len(unique_values), desc=f\"Translating {column}...\"):\n",
    "        if isinstance(value, str):\n",
    "            if value not in a_to_e_translated:\n",
    "                success = False\n",
    "                retries = 3\n",
    "                while not success and retries > 0:\n",
    "                    try:\n",
    "                        translator = GoogleTranslator(source='auto', target='en')\n",
    "                        translated_text = translator.translate(value)\n",
    "                        a_to_e_translated[value] = translated_text\n",
    "                        success = True\n",
    "                    except Exception as e:\n",
    "                        print(f\"Error translating '{value}': {e}. Retrying in 1 minute...\")\n",
    "                        time.sleep(60)\n",
    "                        retries -= 1\n",
    "                if not success:\n",
    "                    print(f\"Failed to translate '{value}' after retries.\")\n",
    "                    a_to_e_translated[value] = value\n",
    "        else:\n",
    "            a_to_e_translated[value] = str(value)\n",
    "    translation_results[column] = a_to_e_translated\n",
    "    df[f'{column}'] = df[column].map(lambda x: a_to_e_translated.get(x, x))\n",
    "\n",
    "columns_to_translate = [\n",
    "        \"ISCOOccupationDescription\"\n",
    "        \n",
    "]\n",
    "\n",
    "translation_results = {}\n",
    "for column in columns_to_translate:\n",
    "    translate_text(df, column, translation_results)"
   ]
  },
  {
   "cell_type": "code",
   "execution_count": null,
   "metadata": {},
   "outputs": [],
   "source": [
    "output_excel_path = r\"C:\\Users\\sanav\\work\\D2R\\NLO\\University\\public\\output\\ar_to_en_translations.xlsx\"\n",
    "with pd.ExcelWriter(output_excel_path, engine='xlsxwriter') as writer:\n",
    "    for sheet_name, key_value_pairs in translation_results.items():\n",
    "        df = pd.DataFrame(list(key_value_pairs.items()), columns=['Key', 'Value'])\n",
    "        df.to_excel(writer, index=False, sheet_name=sheet_name)"
   ]
  },
  {
   "cell_type": "markdown",
   "metadata": {},
   "source": [
    "# DATA TRANSLATION"
   ]
  },
  {
   "cell_type": "code",
   "execution_count": 44,
   "metadata": {},
   "outputs": [],
   "source": [
    "# READ ORIGINAL DATA\n",
    "data = pd.read_excel(\n",
    "    r\"C:\\Users\\sanav\\work\\D2R\\NLO\\University\\public\\data\\UNI-IND-2022-tamher.xlsx\",\n",
    "    dtype=\"object\",\n",
    ")"
   ]
  },
  {
   "cell_type": "code",
   "execution_count": 46,
   "metadata": {},
   "outputs": [],
   "source": [
    "df = data.copy()"
   ]
  },
  {
   "cell_type": "code",
   "execution_count": 47,
   "metadata": {},
   "outputs": [
    {
     "data": {
      "text/plain": [
       "(253883, 16)"
      ]
     },
     "execution_count": 47,
     "metadata": {},
     "output_type": "execute_result"
    }
   ],
   "source": [
    "df.shape"
   ]
  },
  {
   "cell_type": "code",
   "execution_count": 48,
   "metadata": {},
   "outputs": [],
   "source": [
    "df.dropna(inplace=True)\n",
    "\n",
    "df = df[\n",
    "    [\n",
    "        \"IndicatorDescription\",\n",
    "        \"IndicatorValue\",\n",
    "        \"Nationality\",\n",
    "        \"Gender\",\n",
    "        \"Graduation Year\",\n",
    "        \"EducationLevel\",\n",
    "        \"GeneralMajorName\",\n",
    "        \"NarrowMajorName\",\n",
    "        \"MajorNameByClassification\",\n",
    "        # \"GOSIoccupationDescription\",\n",
    "        \"ISCOOccupationDescription\",\n",
    "        \"PeriodToEmployment\",\n",
    "    ]\n",
    "]"
   ]
  },
  {
   "cell_type": "code",
   "execution_count": 49,
   "metadata": {},
   "outputs": [
    {
     "data": {
      "text/plain": [
       "Index(['IndicatorDescription', 'IndicatorValue', 'Nationality', 'Gender',\n",
       "       'Graduation Year', 'EducationLevel', 'GeneralMajorName',\n",
       "       'NarrowMajorName', 'MajorNameByClassification',\n",
       "       'ISCOOccupationDescription', 'PeriodToEmployment'],\n",
       "      dtype='object')"
      ]
     },
     "execution_count": 49,
     "metadata": {},
     "output_type": "execute_result"
    }
   ],
   "source": [
    "df.columns"
   ]
  },
  {
   "cell_type": "code",
   "execution_count": 50,
   "metadata": {},
   "outputs": [],
   "source": [
    "# Code for changing values from Arabic to English in original data\n",
    "translated_results = {}\n",
    "excel_data = pd.read_excel(r\"C:\\Users\\sanav\\work\\D2R\\NLO\\University\\public\\data\\reflected.xlsx\", sheet_name=None)\n",
    "\n",
    "for sheet_name, sheet_data in excel_data.items():\n",
    "    translated_results[sheet_name] = {\n",
    "        str(key).strip(): str(value).strip() if isinstance(value, str) else value\n",
    "        for key, value in zip(sheet_data.iloc[:, 0], sheet_data.iloc[:, 1])\n",
    "    }\n",
    "\n",
    "for column, translation_dict in translated_results.items():\n",
    "    if column in df.columns:\n",
    "        if df[column].dtype == 'object':\n",
    "            df[column] = df[column].str.strip()\n",
    "        df[column] = df[column].map(translation_dict).fillna(df[column])"
   ]
  },
  {
   "cell_type": "code",
   "execution_count": 51,
   "metadata": {},
   "outputs": [],
   "source": [
    "df = df[df['Nationality'] == 'Saudi']\n",
    "df.reset_index(drop=True, inplace=True)\n",
    "df.replace(['N/A', 'N.A.', np.nan], None, inplace=True)"
   ]
  },
  {
   "cell_type": "code",
   "execution_count": 52,
   "metadata": {},
   "outputs": [
    {
     "data": {
      "text/plain": [
       "Index(['IndicatorDescription', 'IndicatorValue', 'Nationality', 'Gender',\n",
       "       'Graduation Year', 'EducationLevel', 'GeneralMajorName',\n",
       "       'NarrowMajorName', 'MajorNameByClassification',\n",
       "       'ISCOOccupationDescription', 'PeriodToEmployment'],\n",
       "      dtype='object')"
      ]
     },
     "execution_count": 52,
     "metadata": {},
     "output_type": "execute_result"
    }
   ],
   "source": [
    "df.columns"
   ]
  },
  {
   "cell_type": "code",
   "execution_count": 53,
   "metadata": {},
   "outputs": [],
   "source": [
    "# ignore_values = {\n",
    "#     \"Gender\": ['Unclassified'],\n",
    "#     'EducationLevel' : ['Unclassified'],\n",
    "#     'GeneralMajorName': ['Unknown programs'],\n",
    "#     'NarrowMajorName': ['Unclassified programs'],\n",
    "#     \"Major\": [\n",
    "#         'Unknown Specializations',\n",
    "#         'Unspecified Specialization in Social and Behavioral Sciences',\n",
    "#         'Unspecified Specialization in Humanities (Excluding Languages)',\n",
    "#         'Unspecified Specialization in Business, Administration, and Law',\n",
    "#         'Unspecified Specialization in Health',\n",
    "#         'Unspecified Specialization in Physical Sciences',\n",
    "#         'Unspecified Specialization in Security Services',\n",
    "#         'Unspecified Specialization in Business and Management'\n",
    "#     ],\n",
    "#     'ISCOOccupationDescription': [0]\n",
    "# }\n",
    "\n",
    "ignore_values = {\n",
    "    \"Gender\": ['Unclassified'],\n",
    "    'EducationLevel' : ['Unclassified'],\n",
    "    'GeneralMajorName': ['Unknown programs'],\n",
    "    'NarrowMajorName': ['Unclassified programs'],\n",
    "    \"Major\": [\n",
    "        'Unknown Specializations'\n",
    "    ],\n",
    "    'ISCOOccupationDescription': [0]\n",
    "}"
   ]
  },
  {
   "cell_type": "code",
   "execution_count": 54,
   "metadata": {},
   "outputs": [],
   "source": [
    "# Remove rows containing the specified values\n",
    "for column, values in ignore_values.items():\n",
    "    if column in df.columns:\n",
    "        df = df[~df[column].isin(values)]\n",
    "\n",
    "\n",
    "# # Replace specified values with None\n",
    "# for column, values in ignore_values.items():\n",
    "#     if column in df.columns:\n",
    "#         df[column] = df[column].replace(values, None)\n",
    "\n",
    "df.reset_index(drop=True, inplace=True)"
   ]
  },
  {
   "cell_type": "code",
   "execution_count": 92,
   "metadata": {},
   "outputs": [
    {
     "data": {
      "text/plain": [
       "(252408, 11)"
      ]
     },
     "execution_count": 92,
     "metadata": {},
     "output_type": "execute_result"
    }
   ],
   "source": [
    "df.shape"
   ]
  },
  {
   "cell_type": "code",
   "execution_count": 55,
   "metadata": {},
   "outputs": [],
   "source": [
    "df.to_json(r\"C:\\Users\\sanav\\work\\D2R\\NLO\\University\\public\\output\\translated_full_data.json\", orient=\"records\", indent=4, force_ascii=False)\n",
    "df.to_excel(r\"C:\\Users\\sanav\\work\\D2R\\NLO\\University\\public\\output\\translated_full_data.xlsx\", index=False)"
   ]
  },
  {
   "cell_type": "code",
   "execution_count": null,
   "metadata": {},
   "outputs": [],
   "source": []
  },
  {
   "cell_type": "markdown",
   "metadata": {},
   "source": [
    "# TRANSLATE FROM EN TO AR"
   ]
  },
  {
   "cell_type": "code",
   "execution_count": 3,
   "metadata": {},
   "outputs": [],
   "source": [
    "df = pd.read_excel(r\"C:\\Users\\sanav\\work\\D2R\\NLO\\University\\public\\output\\translated_full_data.xlsx\", dtype='object')"
   ]
  },
  {
   "cell_type": "code",
   "execution_count": 4,
   "metadata": {},
   "outputs": [
    {
     "data": {
      "text/plain": [
       "(252408, 11)"
      ]
     },
     "execution_count": 4,
     "metadata": {},
     "output_type": "execute_result"
    }
   ],
   "source": [
    "df.shape"
   ]
  },
  {
   "cell_type": "code",
   "execution_count": 5,
   "metadata": {},
   "outputs": [
    {
     "data": {
      "text/html": [
       "<div>\n",
       "<style scoped>\n",
       "    .dataframe tbody tr th:only-of-type {\n",
       "        vertical-align: middle;\n",
       "    }\n",
       "\n",
       "    .dataframe tbody tr th {\n",
       "        vertical-align: top;\n",
       "    }\n",
       "\n",
       "    .dataframe thead th {\n",
       "        text-align: right;\n",
       "    }\n",
       "</style>\n",
       "<table border=\"1\" class=\"dataframe\">\n",
       "  <thead>\n",
       "    <tr style=\"text-align: right;\">\n",
       "      <th></th>\n",
       "      <th>IndicatorDescription</th>\n",
       "      <th>IndicatorValue</th>\n",
       "      <th>Nationality</th>\n",
       "      <th>Gender</th>\n",
       "      <th>Graduation Year</th>\n",
       "      <th>EducationLevel</th>\n",
       "      <th>GeneralMajorName</th>\n",
       "      <th>NarrowMajorName</th>\n",
       "      <th>MajorNameByClassification</th>\n",
       "      <th>ISCOOccupationDescription</th>\n",
       "      <th>PeriodToEmployment</th>\n",
       "    </tr>\n",
       "  </thead>\n",
       "  <tbody>\n",
       "    <tr>\n",
       "      <th>0</th>\n",
       "      <td>Number of Graduates</td>\n",
       "      <td>4715</td>\n",
       "      <td>Saudi</td>\n",
       "      <td>Female</td>\n",
       "      <td>2022</td>\n",
       "      <td>Bachelor's</td>\n",
       "      <td>Business, administration and law</td>\n",
       "      <td>Business and administration</td>\n",
       "      <td>Business Administration</td>\n",
       "      <td>NaN</td>\n",
       "      <td>NaN</td>\n",
       "    </tr>\n",
       "    <tr>\n",
       "      <th>1</th>\n",
       "      <td>Number of Graduates</td>\n",
       "      <td>16</td>\n",
       "      <td>Saudi</td>\n",
       "      <td>Female</td>\n",
       "      <td>2022</td>\n",
       "      <td>Bachelor's</td>\n",
       "      <td>Business, administration and law</td>\n",
       "      <td>Business and administration</td>\n",
       "      <td>Business Administration</td>\n",
       "      <td>Account Manager</td>\n",
       "      <td>NaN</td>\n",
       "    </tr>\n",
       "    <tr>\n",
       "      <th>2</th>\n",
       "      <td>Number of Graduates</td>\n",
       "      <td>101</td>\n",
       "      <td>Saudi</td>\n",
       "      <td>Female</td>\n",
       "      <td>2022</td>\n",
       "      <td>Bachelor's</td>\n",
       "      <td>Business, administration and law</td>\n",
       "      <td>Business and administration</td>\n",
       "      <td>Business Administration</td>\n",
       "      <td>accountant</td>\n",
       "      <td>NaN</td>\n",
       "    </tr>\n",
       "    <tr>\n",
       "      <th>3</th>\n",
       "      <td>Number of Graduates</td>\n",
       "      <td>15</td>\n",
       "      <td>Saudi</td>\n",
       "      <td>Female</td>\n",
       "      <td>2022</td>\n",
       "      <td>Bachelor's</td>\n",
       "      <td>Business, administration and law</td>\n",
       "      <td>Business and administration</td>\n",
       "      <td>Business Administration</td>\n",
       "      <td>accountant</td>\n",
       "      <td>NaN</td>\n",
       "    </tr>\n",
       "    <tr>\n",
       "      <th>4</th>\n",
       "      <td>Number of Graduates</td>\n",
       "      <td>17</td>\n",
       "      <td>Saudi</td>\n",
       "      <td>Female</td>\n",
       "      <td>2022</td>\n",
       "      <td>Bachelor's</td>\n",
       "      <td>Business, administration and law</td>\n",
       "      <td>Business and administration</td>\n",
       "      <td>Business Administration</td>\n",
       "      <td>Accountant</td>\n",
       "      <td>NaN</td>\n",
       "    </tr>\n",
       "  </tbody>\n",
       "</table>\n",
       "</div>"
      ],
      "text/plain": [
       "  IndicatorDescription IndicatorValue Nationality  Gender Graduation Year  \\\n",
       "0  Number of Graduates           4715       Saudi  Female            2022   \n",
       "1  Number of Graduates             16       Saudi  Female            2022   \n",
       "2  Number of Graduates            101       Saudi  Female            2022   \n",
       "3  Number of Graduates             15       Saudi  Female            2022   \n",
       "4  Number of Graduates             17       Saudi  Female            2022   \n",
       "\n",
       "  EducationLevel                  GeneralMajorName  \\\n",
       "0     Bachelor's  Business, administration and law   \n",
       "1     Bachelor's  Business, administration and law   \n",
       "2     Bachelor's  Business, administration and law   \n",
       "3     Bachelor's  Business, administration and law   \n",
       "4     Bachelor's  Business, administration and law   \n",
       "\n",
       "               NarrowMajorName MajorNameByClassification  \\\n",
       "0  Business and administration   Business Administration   \n",
       "1  Business and administration   Business Administration   \n",
       "2  Business and administration   Business Administration   \n",
       "3  Business and administration   Business Administration   \n",
       "4  Business and administration   Business Administration   \n",
       "\n",
       "  ISCOOccupationDescription PeriodToEmployment  \n",
       "0                       NaN                NaN  \n",
       "1           Account Manager                NaN  \n",
       "2                accountant                NaN  \n",
       "3                accountant                NaN  \n",
       "4                Accountant                NaN  "
      ]
     },
     "execution_count": 5,
     "metadata": {},
     "output_type": "execute_result"
    }
   ],
   "source": [
    "df.head()"
   ]
  },
  {
   "cell_type": "code",
   "execution_count": 6,
   "metadata": {},
   "outputs": [
    {
     "data": {
      "text/plain": [
       "Gender\n",
       "Male      126205\n",
       "Female    126203\n",
       "Name: count, dtype: int64"
      ]
     },
     "execution_count": 6,
     "metadata": {},
     "output_type": "execute_result"
    }
   ],
   "source": [
    "df['Gender'].value_counts()"
   ]
  },
  {
   "cell_type": "code",
   "execution_count": 7,
   "metadata": {},
   "outputs": [],
   "source": [
    "# Code for changing values from Arabic to English in original data\n",
    "translated_results = {}\n",
    "excel_data = pd.read_excel(r\"C:\\Users\\sanav\\work\\D2R\\NLO\\University\\public\\data\\reflected.xlsx\", sheet_name=None)\n",
    "\n",
    "for sheet_name, sheet_data in excel_data.items():\n",
    "    # Swap the key-value pairs - now English will be key and Arabic will be value\n",
    "    translated_results[sheet_name] = {\n",
    "        str(value).strip(): str(key).strip() if isinstance(key, str) else key\n",
    "        for key, value in zip(sheet_data.iloc[:, 0], sheet_data.iloc[:, 1])\n",
    "    }\n",
    "\n",
    "# Apply the translations\n",
    "for column, translation_dict in translated_results.items():\n",
    "    if column in df.columns:\n",
    "        if df[column].dtype == 'object':\n",
    "            df[column] = df[column].str.strip()\n",
    "        df[column] = df[column].map(translation_dict).fillna(df[column])\n"
   ]
  },
  {
   "cell_type": "code",
   "execution_count": 8,
   "metadata": {},
   "outputs": [
    {
     "data": {
      "text/html": [
       "<div>\n",
       "<style scoped>\n",
       "    .dataframe tbody tr th:only-of-type {\n",
       "        vertical-align: middle;\n",
       "    }\n",
       "\n",
       "    .dataframe tbody tr th {\n",
       "        vertical-align: top;\n",
       "    }\n",
       "\n",
       "    .dataframe thead th {\n",
       "        text-align: right;\n",
       "    }\n",
       "</style>\n",
       "<table border=\"1\" class=\"dataframe\">\n",
       "  <thead>\n",
       "    <tr style=\"text-align: right;\">\n",
       "      <th></th>\n",
       "      <th>IndicatorDescription</th>\n",
       "      <th>IndicatorValue</th>\n",
       "      <th>Nationality</th>\n",
       "      <th>Gender</th>\n",
       "      <th>Graduation Year</th>\n",
       "      <th>EducationLevel</th>\n",
       "      <th>GeneralMajorName</th>\n",
       "      <th>NarrowMajorName</th>\n",
       "      <th>MajorNameByClassification</th>\n",
       "      <th>ISCOOccupationDescription</th>\n",
       "      <th>PeriodToEmployment</th>\n",
       "    </tr>\n",
       "  </thead>\n",
       "  <tbody>\n",
       "    <tr>\n",
       "      <th>0</th>\n",
       "      <td>Number of Graduates</td>\n",
       "      <td>4715</td>\n",
       "      <td>سعودي</td>\n",
       "      <td>أنثى</td>\n",
       "      <td>2022</td>\n",
       "      <td>بكالوريوس</td>\n",
       "      <td>الأعمال والإدارة والقانون</td>\n",
       "      <td>الأعمال والإدارة</td>\n",
       "      <td>إدارة الأعمال</td>\n",
       "      <td>NaN</td>\n",
       "      <td>NaN</td>\n",
       "    </tr>\n",
       "    <tr>\n",
       "      <th>1</th>\n",
       "      <td>Number of Graduates</td>\n",
       "      <td>16</td>\n",
       "      <td>سعودي</td>\n",
       "      <td>أنثى</td>\n",
       "      <td>2022</td>\n",
       "      <td>بكالوريوس</td>\n",
       "      <td>الأعمال والإدارة والقانون</td>\n",
       "      <td>الأعمال والإدارة</td>\n",
       "      <td>إدارة الأعمال</td>\n",
       "      <td>مدير حسابات</td>\n",
       "      <td>NaN</td>\n",
       "    </tr>\n",
       "    <tr>\n",
       "      <th>2</th>\n",
       "      <td>Number of Graduates</td>\n",
       "      <td>101</td>\n",
       "      <td>سعودي</td>\n",
       "      <td>أنثى</td>\n",
       "      <td>2022</td>\n",
       "      <td>بكالوريوس</td>\n",
       "      <td>الأعمال والإدارة والقانون</td>\n",
       "      <td>الأعمال والإدارة</td>\n",
       "      <td>إدارة الأعمال</td>\n",
       "      <td>محاسب</td>\n",
       "      <td>NaN</td>\n",
       "    </tr>\n",
       "    <tr>\n",
       "      <th>3</th>\n",
       "      <td>Number of Graduates</td>\n",
       "      <td>15</td>\n",
       "      <td>سعودي</td>\n",
       "      <td>أنثى</td>\n",
       "      <td>2022</td>\n",
       "      <td>بكالوريوس</td>\n",
       "      <td>الأعمال والإدارة والقانون</td>\n",
       "      <td>الأعمال والإدارة</td>\n",
       "      <td>إدارة الأعمال</td>\n",
       "      <td>محاسب</td>\n",
       "      <td>NaN</td>\n",
       "    </tr>\n",
       "    <tr>\n",
       "      <th>4</th>\n",
       "      <td>Number of Graduates</td>\n",
       "      <td>17</td>\n",
       "      <td>سعودي</td>\n",
       "      <td>أنثى</td>\n",
       "      <td>2022</td>\n",
       "      <td>بكالوريوس</td>\n",
       "      <td>الأعمال والإدارة والقانون</td>\n",
       "      <td>الأعمال والإدارة</td>\n",
       "      <td>إدارة الأعمال</td>\n",
       "      <td>كاتب حسابات</td>\n",
       "      <td>NaN</td>\n",
       "    </tr>\n",
       "  </tbody>\n",
       "</table>\n",
       "</div>"
      ],
      "text/plain": [
       "  IndicatorDescription IndicatorValue Nationality Gender Graduation Year  \\\n",
       "0  Number of Graduates           4715       سعودي   أنثى            2022   \n",
       "1  Number of Graduates             16       سعودي   أنثى            2022   \n",
       "2  Number of Graduates            101       سعودي   أنثى            2022   \n",
       "3  Number of Graduates             15       سعودي   أنثى            2022   \n",
       "4  Number of Graduates             17       سعودي   أنثى            2022   \n",
       "\n",
       "  EducationLevel           GeneralMajorName   NarrowMajorName  \\\n",
       "0      بكالوريوس  الأعمال والإدارة والقانون  الأعمال والإدارة   \n",
       "1      بكالوريوس  الأعمال والإدارة والقانون  الأعمال والإدارة   \n",
       "2      بكالوريوس  الأعمال والإدارة والقانون  الأعمال والإدارة   \n",
       "3      بكالوريوس  الأعمال والإدارة والقانون  الأعمال والإدارة   \n",
       "4      بكالوريوس  الأعمال والإدارة والقانون  الأعمال والإدارة   \n",
       "\n",
       "  MajorNameByClassification ISCOOccupationDescription PeriodToEmployment  \n",
       "0             إدارة الأعمال                       NaN                NaN  \n",
       "1             إدارة الأعمال               مدير حسابات                NaN  \n",
       "2             إدارة الأعمال                     محاسب                NaN  \n",
       "3             إدارة الأعمال                     محاسب                NaN  \n",
       "4             إدارة الأعمال               كاتب حسابات                NaN  "
      ]
     },
     "execution_count": 8,
     "metadata": {},
     "output_type": "execute_result"
    }
   ],
   "source": [
    "df.head()"
   ]
  },
  {
   "cell_type": "code",
   "execution_count": 7,
   "metadata": {},
   "outputs": [
    {
     "data": {
      "text/plain": [
       "(252408, 11)"
      ]
     },
     "execution_count": 7,
     "metadata": {},
     "output_type": "execute_result"
    }
   ],
   "source": [
    "df.shape"
   ]
  },
  {
   "cell_type": "code",
   "execution_count": 8,
   "metadata": {},
   "outputs": [
    {
     "data": {
      "text/plain": [
       "Index(['IndicatorDescription', 'IndicatorValue', 'Nationality', 'Gender',\n",
       "       'Graduation Year', 'EducationLevel', 'GeneralMajorName',\n",
       "       'NarrowMajorName', 'MajorNameByClassification',\n",
       "       'ISCOOccupationDescription', 'PeriodToEmployment'],\n",
       "      dtype='object')"
      ]
     },
     "execution_count": 8,
     "metadata": {},
     "output_type": "execute_result"
    }
   ],
   "source": [
    "df.columns"
   ]
  },
  {
   "cell_type": "code",
   "execution_count": 10,
   "metadata": {},
   "outputs": [
    {
     "data": {
      "text/plain": [
       "array(['Business and administration', 'law',\n",
       "       'Basic programs and qualifications', 'education',\n",
       "       'Personal services', 'Welfare', 'health', 'Journalism and media',\n",
       "       'Social and behavioral sciences', 'environment',\n",
       "       'Mathematics and Statistics',\n",
       "       'Biological sciences and related sciences', 'Physical sciences',\n",
       "       'Human studies except languages', 'Arts', 'Languages',\n",
       "       'Manufacturing and processing', 'Architecture and construction',\n",
       "       'Engineering and engineering crafts',\n",
       "       'Multi -disciplinary programs and qualifications include telecommunications and information technology',\n",
       "       'Communications and Information Technology',\n",
       "       'Skills and personal development development', 'Forestry',\n",
       "       'General hygiene and occupational health services',\n",
       "       'Unlimited programs in business, administration and law',\n",
       "       'Multidisciplinary programs and qualifications include health and wellbeing',\n",
       "       'Other programs in natural sciences, mathematics and statistics are not classified elsewhere',\n",
       "       'Multiple specialties programs and qualifications include natural sciences, mathematics and statistics',\n",
       "       'Multi -disciplinary programs and qualifications include engineering, manufacturing and construction',\n",
       "       'Transportation services', 'Veterinary', 'Agriculture',\n",
       "       'security service'], dtype=object)"
      ]
     },
     "execution_count": 10,
     "metadata": {},
     "output_type": "execute_result"
    }
   ],
   "source": [
    "df['NarrowMajorName'].unique()"
   ]
  },
  {
   "cell_type": "code",
   "execution_count": 24,
   "metadata": {},
   "outputs": [],
   "source": [
    "df.to_json(r\"C:\\Users\\sanav\\work\\D2R\\NLO\\University\\public\\output\\translated_full_data_arabic.json\", orient=\"records\", indent=4, force_ascii=False)\n",
    "df.to_excel(r\"C:\\Users\\sanav\\work\\D2R\\NLO\\University\\public\\output\\translated_full_data_arabic.xlsx\", index=False)"
   ]
  },
  {
   "cell_type": "code",
   "execution_count": 25,
   "metadata": {},
   "outputs": [
    {
     "data": {
      "text/plain": [
       "array(['أنثى', 'ذكر'], dtype=object)"
      ]
     },
     "execution_count": 25,
     "metadata": {},
     "output_type": "execute_result"
    }
   ],
   "source": [
    "df['Gender'].unique()"
   ]
  },
  {
   "cell_type": "code",
   "execution_count": null,
   "metadata": {},
   "outputs": [],
   "source": []
  },
  {
   "cell_type": "markdown",
   "metadata": {},
   "source": [
    "EXTRA CODES"
   ]
  },
  {
   "cell_type": "code",
   "execution_count": 11,
   "metadata": {},
   "outputs": [],
   "source": [
    "import pandas as pd\n",
    "import json\n",
    "\n",
    "# Read the Excel file with all sheets\n",
    "excel_data = pd.read_excel(r\"C:\\Users\\sanav\\work\\D2R\\NLO\\University\\public\\data\\reflected.xlsx\", sheet_name=None)\n",
    "\n",
    "# Create a dictionary to store all translations\n",
    "translation_dict = {}\n",
    "\n",
    "# Process each sheet\n",
    "for sheet_name, sheet_data in excel_data.items():\n",
    "    # Convert the two columns into a dictionary\n",
    "    translation_dict[sheet_name] = {\n",
    "        str(key).strip(): str(value).strip() if isinstance(value, str) else value\n",
    "        for key, value in zip(sheet_data.iloc[:, 0], sheet_data.iloc[:, 1])\n",
    "    }\n",
    "\n",
    "# Save as JSON file\n",
    "with open(r\"C:\\Users\\sanav\\work\\D2R\\NLO\\University\\public\\data\\translations.json\", 'w', encoding='utf-8') as f:\n",
    "    json.dump(translation_dict, f, ensure_ascii=False, indent=4)"
   ]
  }
 ],
 "metadata": {
  "kernelspec": {
   "display_name": ".env",
   "language": "python",
   "name": "python3"
  },
  "language_info": {
   "codemirror_mode": {
    "name": "ipython",
    "version": 3
   },
   "file_extension": ".py",
   "mimetype": "text/x-python",
   "name": "python",
   "nbconvert_exporter": "python",
   "pygments_lexer": "ipython3",
   "version": "3.11.9"
  }
 },
 "nbformat": 4,
 "nbformat_minor": 2
}
